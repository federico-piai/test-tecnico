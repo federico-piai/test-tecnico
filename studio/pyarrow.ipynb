{
 "cells": [
  {
   "cell_type": "markdown",
   "id": "52227969-4514-434b-a2f6-7f40e1a7b02f",
   "metadata": {},
   "source": [
    "# Guida PyArrow\n",
    "\n",
    "cf \n",
    "\n",
    "* https://arrow.apache.org/docs/python/getstarted.html\n",
    "* https://arrow.apache.org/cookbook/py/data.html#applying-arithmetic-functions-to-arrays"
   ]
  },
  {
   "cell_type": "code",
   "execution_count": 1,
   "id": "4f69a288-2606-4bd2-a1b9-6324f29bf4db",
   "metadata": {
    "tags": []
   },
   "outputs": [],
   "source": [
    "import pyarrow as pa\n",
    "import pyarrow.parquet as pq\n",
    "import pyarrow.compute as pc"
   ]
  },
  {
   "cell_type": "markdown",
   "id": "6ff55960-c88a-40e5-a716-b3f25ab56884",
   "metadata": {},
   "source": [
    "# Inizializzazione dati"
   ]
  },
  {
   "cell_type": "code",
   "execution_count": 12,
   "id": "e505bc2b-fe35-4644-8157-e39720b298a8",
   "metadata": {},
   "outputs": [
    {
     "data": {
      "text/plain": [
       "<pyarrow.lib.Int8Array object at 0x00000203F93F4D00>\n",
       "[\n",
       "  1,\n",
       "  2,\n",
       "  3\n",
       "]"
      ]
     },
     "execution_count": 12,
     "metadata": {},
     "output_type": "execute_result"
    }
   ],
   "source": [
    "## Tipo di dato: array\n",
    "pippo = pa.array([1,2,3], type = pa.int8())\n",
    "pippo"
   ]
  },
  {
   "cell_type": "code",
   "execution_count": 10,
   "id": "95b85e78-1184-4857-8221-619904d4139d",
   "metadata": {
    "tags": []
   },
   "outputs": [
    {
     "data": {
      "text/plain": [
       "pyarrow.Table\n",
       "pippo: int64\n",
       "anni: int64\n",
       "----\n",
       "pippo: [[1,2]]\n",
       "anni: [[10,20]]"
      ]
     },
     "execution_count": 10,
     "metadata": {},
     "output_type": "execute_result"
    }
   ],
   "source": [
    "## Tipo di dato: lista (insieme di array)\n",
    "\n",
    "listone = pa.Table.from_pylist([\n",
    "    {\"pippo\": 1, \"anni\": 10},\n",
    "    {\"pippo\":2, \"anni\": 20}\n",
    "])\n",
    "listone"
   ]
  },
  {
   "cell_type": "code",
   "execution_count": 24,
   "id": "b06cda8f-27a0-47f4-aa25-79c206c5ed6c",
   "metadata": {
    "tags": []
   },
   "outputs": [
    {
     "data": {
      "text/plain": [
       "pyarrow.Table\n",
       "pippo: int64\n",
       "anni: int64\n",
       "----\n",
       "pippo: [[1,2]]\n",
       "anni: [[10,20]]"
      ]
     },
     "execution_count": 24,
     "metadata": {},
     "output_type": "execute_result"
    }
   ],
   "source": [
    "pq.write_table(listone, 'listone.parquet')\n",
    "listone2 = pq.read_table('listone.parquet')\n",
    "listone2"
   ]
  },
  {
   "cell_type": "code",
   "execution_count": 25,
   "id": "7d6b56ab-e64b-44e2-9478-88787523200a",
   "metadata": {
    "tags": []
   },
   "outputs": [
    {
     "data": {
      "text/plain": [
       "pyarrow.Table\n",
       "pippo: int64\n",
       "anni: int64\n",
       "----\n",
       "pippo: [[1,2],[1,2]]\n",
       "anni: [[10,20],[10,20]]"
      ]
     },
     "execution_count": 25,
     "metadata": {},
     "output_type": "execute_result"
    }
   ],
   "source": [
    "listone = pa.concat_tables([listone,listone2])\n",
    "listone"
   ]
  },
  {
   "cell_type": "markdown",
   "id": "9704b27e-613c-4b64-9f03-02c084905593",
   "metadata": {},
   "source": [
    "## Calcoli"
   ]
  },
  {
   "cell_type": "code",
   "execution_count": 30,
   "id": "a55bf87f-d959-430e-b788-fd4f866f5fed",
   "metadata": {
    "tags": []
   },
   "outputs": [
    {
     "data": {
      "text/plain": [
       "pyarrow.Table\n",
       "pippo: int64\n",
       "anni: int64\n",
       "boooo: int64\n",
       "----\n",
       "pippo: [[1,2],[1,2]]\n",
       "anni: [[10,20],[10,20]]\n",
       "boooo: [[2,4,2,4]]"
      ]
     },
     "execution_count": 30,
     "metadata": {},
     "output_type": "execute_result"
    }
   ],
   "source": [
    "listone = listone.append_column(\n",
    "    \"boooo\",\n",
    "    pc.multiply(listone['pippo'], 2))\n",
    "listone"
   ]
  },
  {
   "cell_type": "code",
   "execution_count": 37,
   "id": "43aa8626-b287-4fa2-96da-0bef5978f5da",
   "metadata": {
    "tags": []
   },
   "outputs": [
    {
     "data": {
      "text/plain": [
       "pyarrow.Table\n",
       "anni_sum: int64\n",
       "pippo: int64\n",
       "----\n",
       "anni_sum: [[20,40]]\n",
       "pippo: [[1,2]]"
      ]
     },
     "execution_count": 37,
     "metadata": {},
     "output_type": "execute_result"
    }
   ],
   "source": [
    "listone = listone.group_by(\"pippo\").aggregate([(\"anni\",\"sum\")])\n",
    "listone"
   ]
  },
  {
   "cell_type": "code",
   "execution_count": null,
   "id": "abc93574-e1a3-43c3-9461-bc3fb14ff305",
   "metadata": {},
   "outputs": [],
   "source": []
  }
 ],
 "metadata": {
  "kernelspec": {
   "display_name": "Python 3 (ipykernel)",
   "language": "python",
   "name": "python3"
  },
  "language_info": {
   "codemirror_mode": {
    "name": "ipython",
    "version": 3
   },
   "file_extension": ".py",
   "mimetype": "text/x-python",
   "name": "python",
   "nbconvert_exporter": "python",
   "pygments_lexer": "ipython3",
   "version": "3.11.1"
  }
 },
 "nbformat": 4,
 "nbformat_minor": 5
}
